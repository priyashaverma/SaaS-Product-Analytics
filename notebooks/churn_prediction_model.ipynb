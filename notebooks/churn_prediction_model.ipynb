{
 "cells": [
  {
   "cell_type": "code",
   "execution_count": null,
   "metadata": {},
   "outputs": [
    {
     "name": "stdout",
     "output_type": "stream",
     "text": [
      "Confusion Matrix:\n",
      " [[546 232]\n",
      " [242 230]]\n",
      "\n",
      "Classification Report:\n",
      "               precision    recall  f1-score   support\n",
      "\n",
      "           0       0.69      0.70      0.70       778\n",
      "           1       0.50      0.49      0.49       472\n",
      "\n",
      "    accuracy                           0.62      1250\n",
      "   macro avg       0.60      0.59      0.59      1250\n",
      "weighted avg       0.62      0.62      0.62      1250\n",
      "\n",
      "plan_encoded: 0.035\n",
      "monthly_revenue: 0.145\n",
      "sessions_last_month: 0.267\n",
      "tenure_months: 0.553\n"
     ]
    }
   ],
   "source": [
    "import pandas as pd\n",
    "import numpy as np\n",
    "from sklearn.model_selection import train_test_split\n",
    "from sklearn.preprocessing import LabelEncoder\n",
    "from sklearn.ensemble import RandomForestClassifier\n",
    "from sklearn.metrics import classification_report, confusion_matrix\n",
    "from dateutil.relativedelta import relativedelta\n",
    "\n",
    "\n",
    "df = pd.read_csv(\"saas_customer_data.csv\", parse_dates=['signup_date'])\n",
    "\n",
    "df['current_date'] = pd.to_datetime('today')\n",
    "\n",
    "\n",
    "df['tenure_months'] = df.apply(\n",
    "    lambda row: relativedelta(row['current_date'], row['signup_date']).years * 12 \n",
    "                + relativedelta(row['current_date'], row['signup_date']).months, \n",
    "    axis=1\n",
    ")\n",
    "\n",
    "\n",
    "le = LabelEncoder()\n",
    "df['plan_encoded'] = le.fit_transform(df['plan'])\n",
    "\n",
    "\n",
    "features = df[['plan_encoded', 'monthly_revenue', 'sessions_last_month', 'tenure_months']]\n",
    "target = df['churned']\n",
    "\n",
    "\n",
    "X_train, X_test, y_train, y_test = train_test_split(features, target, test_size=0.25, random_state=42)\n",
    "\n",
    "# Model\n",
    "rf = RandomForestClassifier(n_estimators=100, random_state=42)\n",
    "rf.fit(X_train, y_train)\n",
    "\n",
    "# Predictions\n",
    "y_pred = rf.predict(X_test)\n",
    "\n",
    "# Evaluation\n",
    "print(\"Confusion Matrix:\\n\", confusion_matrix(y_test, y_pred))\n",
    "print(\"\\nClassification Report:\\n\", classification_report(y_test, y_pred))\n",
    "\n",
    "\n",
    "importances = rf.feature_importances_\n",
    "feature_names = features.columns\n",
    "\n",
    "for name, importance in zip(feature_names, importances):\n",
    "    print(f\"{name}: {importance:.3f}\")\n"
   ]
  }
 ],
 "metadata": {
  "kernelspec": {
   "display_name": "base",
   "language": "python",
   "name": "python3"
  },
  "language_info": {
   "codemirror_mode": {
    "name": "ipython",
    "version": 3
   },
   "file_extension": ".py",
   "mimetype": "text/x-python",
   "name": "python",
   "nbconvert_exporter": "python",
   "pygments_lexer": "ipython3",
   "version": "3.12.2"
  }
 },
 "nbformat": 4,
 "nbformat_minor": 2
}
