{
 "cells": [
  {
   "cell_type": "code",
   "execution_count": 1,
   "metadata": {},
   "outputs": [
    {
     "name": "stdout",
     "output_type": "stream",
     "text": [
      "Sessions T-Test p-value: 0.04903\n",
      "Mean Control Sessions: 7.08\n",
      "Mean Treatment Sessions: 7.33\n",
      "Churn Rate - Control Group: 39.02%\n",
      "Churn Rate - Treatment Group: 35.18%\n"
     ]
    }
   ],
   "source": [
    "import pandas as pd\n",
    "import numpy as np\n",
    "import scipy.stats as stats\n",
    "\n",
    "\n",
    "df = pd.read_csv(\"saas_customer_data.csv\")\n",
    "\n",
    "\n",
    "np.random.seed(42)\n",
    "df['group'] = np.random.choice(['A', 'B'], size=len(df))\n",
    "\n",
    "\n",
    "control_sessions = df[df['group']=='A']['sessions_last_month']\n",
    "treatment_sessions = df[df['group']=='B']['sessions_last_month']\n",
    "\n",
    "# T-Test\n",
    "t_stat, p_value = stats.ttest_ind(treatment_sessions, control_sessions)\n",
    "\n",
    "print(f\"Sessions T-Test p-value: {p_value:.5f}\")\n",
    "print(f\"Mean Control Sessions: {control_sessions.mean():.2f}\")\n",
    "print(f\"Mean Treatment Sessions: {treatment_sessions.mean():.2f}\")\n",
    "\n",
    "control_churn = df[df['group']=='A']['churned'].mean()\n",
    "treatment_churn = df[df['group']=='B']['churned'].mean()\n",
    "\n",
    "print(f\"Churn Rate - Control Group: {control_churn:.2%}\")\n",
    "print(f\"Churn Rate - Treatment Group: {treatment_churn:.2%}\")\n",
    "\n",
    "\n",
    "\n"
   ]
  }
 ],
 "metadata": {
  "kernelspec": {
   "display_name": "base",
   "language": "python",
   "name": "python3"
  },
  "language_info": {
   "codemirror_mode": {
    "name": "ipython",
    "version": 3
   },
   "file_extension": ".py",
   "mimetype": "text/x-python",
   "name": "python",
   "nbconvert_exporter": "python",
   "pygments_lexer": "ipython3",
   "version": "3.12.2"
  }
 },
 "nbformat": 4,
 "nbformat_minor": 2
}
